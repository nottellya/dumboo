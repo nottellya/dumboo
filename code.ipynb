{
 "cells": [
  {
   "cell_type": "code",
   "execution_count": 3,
   "id": "f40051fc",
   "metadata": {},
   "outputs": [
    {
     "name": "stdout",
     "output_type": "stream",
     "text": [
      "正在下载第 1 页\n",
      "正在下载第 2 页\n",
      "正在下载第 3 页\n",
      "正在下载第 4 页\n",
      "正在下载第 5 页\n",
      "正在下载第 6 页\n",
      "出问题的网址 http://static.cninfo.com.cn/finalpage/2020-09-29/1208505265.PDF\n",
      "正在下载第 7 页\n"
     ]
    }
   ],
   "source": [
    "import requests\n",
    "import re\n",
    "from pyquery import PyQuery\n",
    "import time\n",
    "import csv\n",
    "\n",
    "\n",
    "def downloadpdf(link,file):\n",
    "    resp = requests.get(link)\n",
    "    f = open(file,'wb')\n",
    "    f.write(resp.content)\n",
    "    f.close\n",
    "url = 'http://www.cninfo.com.cn/new/hisAnnouncement/query'\n",
    "headers = {'User-Agent': 'Mozilla/5.0 (Windows NT 10.0; Win64; x64) AppleWebKit/537.36 (KHTML, like Gecko) Chrome/94.0.4606.81 Safari/537.36'}\n",
    "\n",
    "formdata = {'stock': '003003,gfbj0836099',\n",
    "'tabName': 'fulltext',\n",
    "'pageSize': 30,\n",
    "'pageNum': 1,\n",
    "'column': 'szse',\n",
    "#'category': ,\n",
    "'plate': 'sz',\n",
    "#'seDate': ,\n",
    "#'searchkey': ,\n",
    "#'secid': ,\n",
    "#'sortName': ,\n",
    "#'sortType': ,\n",
    "#'isHLtitle': true\n",
    "}\n",
    "\n",
    "\n",
    "with open('天元股份.csv','w',encoding='utf-8',newline='') as csvf:\n",
    "    fieldnames = ['title','link','date']\n",
    "    writer = csv.DictWriter(csvf, fieldnames = fieldnames)\n",
    "    writer.writeheader()\n",
    "    \n",
    "    resp = requests.post(url,headers = headers,data = formdata)\n",
    "    totalAnnouncement = resp.json()['totalAnnouncement']\n",
    "    max_page_num= int(totalAnnouncement/30)+1\n",
    "    for page in range(1,max_page_num+1):\n",
    "        try:\n",
    "            formdata['pageNum'] = page\n",
    "            resp = requests.post(url,headers = headers,data = formdata)\n",
    "            print('正在下载第',page,'页')\n",
    "            for company in resp.json()['announcements']:\n",
    "                row = dict()\n",
    "                row['title'] = company['announcementTitle']\n",
    "                row['link'] = 'http://static.cninfo.com.cn/'+company['adjunctUrl']\n",
    "                row['date'] = re.findall('\\d{4}-\\d{2}-\\d{2}',company['adjunctUrl'])[0]\n",
    "                pdffile = 'data/' + row['date']+row['title']+ '.pdf'\n",
    "                pdfurl = 'http://static.cninfo.com.cn/'+company['adjunctUrl']\n",
    "                downloadpdf(link=pdfurl,file=pdffile)\n",
    "                writer.writerow(row)\n",
    "        except:\n",
    "            print('出问题的pdf',row['link'])"
   ]
  },
  {
   "cell_type": "code",
   "execution_count": null,
   "id": "9b01a451",
   "metadata": {},
   "outputs": [],
   "source": []
  },
  {
   "cell_type": "code",
   "execution_count": null,
   "id": "9568f071",
   "metadata": {},
   "outputs": [],
   "source": []
  }
 ],
 "metadata": {
  "kernelspec": {
   "display_name": "Python 3",
   "language": "python",
   "name": "python3"
  },
  "language_info": {
   "codemirror_mode": {
    "name": "ipython",
    "version": 3
   },
   "file_extension": ".py",
   "mimetype": "text/x-python",
   "name": "python",
   "nbconvert_exporter": "python",
   "pygments_lexer": "ipython3",
   "version": "3.8.8"
  }
 },
 "nbformat": 4,
 "nbformat_minor": 5
}
