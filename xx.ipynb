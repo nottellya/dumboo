{
 "cells": [
  {
   "cell_type": "code",
   "execution_count": null,
   "id": "2566fc68",
   "metadata": {},
   "outputs": [],
   "source": [
    "import re\n",
    "\n",
    "import requests\n",
    "from selenium import webdriver\n",
    "\n",
    "# 获取网页源代码\n",
    "chrome_options = webdriver.ChromeOptions()\n",
    "chrome_options.add_argument('--headless')\n",
    "browser = webdriver.Chrome(options=chrome_options)\n",
    "#这里填公司对应的网址\n",
    "url = 'http://www.cninfo.com.cn/new/disclosure/stock?stockCode=300771&orgId=9900035296#latestAnnouncement'\n",
    "browser.get(url=url)\n",
    "data = browser.page_source\n",
    "# 获取网页标题\n",
    "p_title = '<span class=\"r-title\">(.*?)</span>'\n",
    "title = re.findall(p_title, data)\n",
    "# 获取网页网址\n",
    "p_href = '<div class=\"cell\"><a target=\"_blank\" href=\"(.*?)\" data-id='\n",
    "href = re.findall(p_href, data)\n",
    "for index in range(len(href)):\n",
    "    # 网址清理\n",
    "    href[index] = 'http://www.cninfo.com.cn' + href[index]\n",
    "    href[index] = re.sub('amp;', '', href[index])\n",
    "    # pdf文件下载\n",
    "    res = requests.get(url=href[index])\n",
    "    #这里是pdf存储的路径\n",
    "    path = \"data/\" + title[index] + \".pdf\"\n",
    "    file = open(path, 'wb')\n",
    "    file.write(res.content)\n",
    "    file.close()\n",
    "    print(\"正在下载此页第\" + str(index + 1) + \"个pdf。\")"
   ]
  }
 ],
 "metadata": {
  "kernelspec": {
   "display_name": "Python 3",
   "language": "python",
   "name": "python3"
  },
  "language_info": {
   "codemirror_mode": {
    "name": "ipython",
    "version": 3
   },
   "file_extension": ".py",
   "mimetype": "text/x-python",
   "name": "python",
   "nbconvert_exporter": "python",
   "pygments_lexer": "ipython3",
   "version": "3.8.8"
  }
 },
 "nbformat": 4,
 "nbformat_minor": 5
}
